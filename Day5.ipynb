{
  "nbformat": 4,
  "nbformat_minor": 0,
  "metadata": {
    "colab": {
      "provenance": [],
      "authorship_tag": "ABX9TyOITtsHFXLWN/NGVY/TA+1P",
      "include_colab_link": true
    },
    "kernelspec": {
      "name": "python3",
      "display_name": "Python 3"
    },
    "language_info": {
      "name": "python"
    }
  },
  "cells": [
    {
      "cell_type": "markdown",
      "metadata": {
        "id": "view-in-github",
        "colab_type": "text"
      },
      "source": [
        "<a href=\"https://colab.research.google.com/github/hasmitha23/NLP-Assignments-AD/blob/main/Day5.ipynb\" target=\"_parent\"><img src=\"https://colab.research.google.com/assets/colab-badge.svg\" alt=\"Open In Colab\"/></a>"
      ]
    },
    {
      "cell_type": "code",
      "execution_count": 1,
      "metadata": {
        "id": "lbu61Yo3DJ79"
      },
      "outputs": [],
      "source": [
        "#Day5\n",
        "#Write a Python program to calculate the frequency of each word in a given text. Print the words and their corresponding counts"
      ]
    },
    {
      "cell_type": "code",
      "source": [
        "# Taking input text from the user\n",
        "text = input(\"Enter a text: \")\n",
        "\n",
        "# Converting the text to lowercase and splitting it into words\n",
        "words = text.lower().split()\n",
        "\n",
        "# Initializing an empty dictionary to store word frequencies\n",
        "word_counts = {}\n",
        "\n",
        "# Counting the frequency of each word\n",
        "for word in words:\n",
        "    word_counts[word] = word_counts.get(word, 0) + 1\n",
        "\n",
        "# Printing the words and their counts\n",
        "print(\"\\nWord Frequencies:\")\n",
        "for word, count in word_counts.items():\n",
        "    print(f\"{word}: {count}\")\n"
      ],
      "metadata": {
        "id": "fJ-LvHetDRwH",
        "outputId": "69a5411f-0c5a-458d-f77d-ebbff931db49",
        "colab": {
          "base_uri": "https://localhost:8080/"
        }
      },
      "execution_count": 2,
      "outputs": [
        {
          "output_type": "stream",
          "name": "stdout",
          "text": [
            "Enter a text: hellooo\n",
            "\n",
            "Word Frequencies:\n",
            "hellooo: 1\n"
          ]
        }
      ]
    },
    {
      "cell_type": "code",
      "source": [],
      "metadata": {
        "id": "iTnb83UaDVQL"
      },
      "execution_count": null,
      "outputs": []
    }
  ]
}
{
  "nbformat": 4,
  "nbformat_minor": 0,
  "metadata": {
    "colab": {
      "provenance": [],
      "authorship_tag": "ABX9TyOXYJDDu94b5jhUKDYh1DUt",
      "include_colab_link": true
    },
    "kernelspec": {
      "name": "python3",
      "display_name": "Python 3"
    },
    "language_info": {
      "name": "python"
    }
  },
  "cells": [
    {
      "cell_type": "markdown",
      "metadata": {
        "id": "view-in-github",
        "colab_type": "text"
      },
      "source": [
        "<a href=\"https://colab.research.google.com/github/hasmitha23/NLP-Assignments-AD/blob/main/Day2.ipynb\" target=\"_parent\"><img src=\"https://colab.research.google.com/assets/colab-badge.svg\" alt=\"Open In Colab\"/></a>"
      ]
    },
    {
      "cell_type": "code",
      "source": [
        "#Day2\n",
        "#Create a List, tuple and Dictionary with 5 elements in it and how to access few elements based on the index.\n",
        "#Try  with different examples"
      ],
      "metadata": {
        "id": "NWdUpAAmAhYx"
      },
      "execution_count": null,
      "outputs": []
    },
    {
      "cell_type": "code",
      "source": [
        "# Creating a List with 5 elements\n",
        "my_list = [10, 20, 30, 40, 50]\n",
        "\n",
        "# Accessing elements in the List using index\n",
        "print(\"List Example:\")\n",
        "print(\"First element:\", my_list[0])  # Index 0 (first element)\n",
        "print(\"Third element:\", my_list[2])  # Index 2 (third element)\n",
        "print(\"Last element:\", my_list[-1])  # Index -1 (last element)\n",
        "\n",
        "# Creating a Tuple with 5 elements\n",
        "my_tuple = (1, 2, 3, 4, 5)\n",
        "\n",
        "# Accessing elements in the Tuple using index\n",
        "print(\"\\nTuple Example:\")\n",
        "print(\"Second element:\", my_tuple[1])  # Index 1 (second element)\n",
        "print(\"Fourth element:\", my_tuple[3])  # Index 3 (fourth element)\n",
        "print(\"Last element:\", my_tuple[-1])  # Index -1 (last element)\n",
        "\n",
        "# Creating a Dictionary with 5 key-value pairs\n",
        "my_dict = {\n",
        "    'name': 'Alice',\n",
        "    'age': 25,\n",
        "    'city': 'New York',\n",
        "    'job': 'Engineer',\n",
        "    'country': 'USA'\n",
        "}\n",
        "\n",
        "# Accessing values in the Dictionary using keys\n",
        "print(\"\\nDictionary Example:\")\n",
        "print(\"Name:\", my_dict['name'])  # Accessing value by key 'name'\n",
        "print(\"Age:\", my_dict['age'])    # Accessing value by key 'age'\n",
        "print(\"City:\", my_dict['city'])  # Accessing value by key 'city'\n"
      ],
      "metadata": {
        "colab": {
          "base_uri": "https://localhost:8080/"
        },
        "id": "u4q05p8EAo0o",
        "outputId": "a8876c04-3895-4130-c363-91c8ec0a0750"
      },
      "execution_count": 2,
      "outputs": [
        {
          "output_type": "stream",
          "name": "stdout",
          "text": [
            "List Example:\n",
            "First element: 10\n",
            "Third element: 30\n",
            "Last element: 50\n",
            "\n",
            "Tuple Example:\n",
            "Second element: 2\n",
            "Fourth element: 4\n",
            "Last element: 5\n",
            "\n",
            "Dictionary Example:\n",
            "Name: Alice\n",
            "Age: 25\n",
            "City: New York\n"
          ]
        }
      ]
    },
    {
      "cell_type": "code",
      "source": [],
      "metadata": {
        "id": "I5-ykrqRAxwD"
      },
      "execution_count": null,
      "outputs": []
    }
  ]
}
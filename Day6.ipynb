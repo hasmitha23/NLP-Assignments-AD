{
  "nbformat": 4,
  "nbformat_minor": 0,
  "metadata": {
    "colab": {
      "provenance": [],
      "authorship_tag": "ABX9TyP5j8TJmYscni7kxVyFKQp0",
      "include_colab_link": true
    },
    "kernelspec": {
      "name": "python3",
      "display_name": "Python 3"
    },
    "language_info": {
      "name": "python"
    }
  },
  "cells": [
    {
      "cell_type": "markdown",
      "metadata": {
        "id": "view-in-github",
        "colab_type": "text"
      },
      "source": [
        "<a href=\"https://colab.research.google.com/github/hasmitha23/NLP-Assignments-AD/blob/main/Day6.ipynb\" target=\"_parent\"><img src=\"https://colab.research.google.com/assets/colab-badge.svg\" alt=\"Open In Colab\"/></a>"
      ]
    },
    {
      "cell_type": "code",
      "execution_count": 1,
      "metadata": {
        "id": "NSpvO5CPDdt7"
      },
      "outputs": [],
      "source": [
        "#Day6\n",
        "#Write a Python program to using NLTK and Spacy\n",
        "  #Convert text to lowercase.\n",
        "  #Remove stopwords using NLTK\n"
      ]
    },
    {
      "cell_type": "code",
      "source": [
        "import nltk\n",
        "from nltk.corpus import stopwords\n",
        "import spacy\n",
        "\n",
        "# Download NLTK stopwords\n",
        "nltk.download('stopwords')\n",
        "stop_words = set(stopwords.words('english'))\n",
        "\n",
        "# Load spaCy model\n",
        "nlp = spacy.load(\"en_core_web_sm\")\n",
        "\n",
        "# Input text\n",
        "text = \"This is a simple example to demonstrate how to process text using NLTK and spaCy.\"\n",
        "\n",
        "# Convert text to lowercase using spaCy\n",
        "doc = nlp(text.lower())\n",
        "\n",
        "# Remove stopwords using NLTK\n",
        "filtered_words = [word.text for word in doc if word.text not in stop_words and word.is_alpha]\n",
        "\n",
        "# Print the processed text\n",
        "print(\"Original Text:\", text)\n",
        "print(\"Processed Text:\", \" \".join(filtered_words))\n",
        "\n",
        "\n",
        "\n"
      ],
      "metadata": {
        "colab": {
          "base_uri": "https://localhost:8080/"
        },
        "id": "vK9K_5G-DmwC",
        "outputId": "b9e715c9-11ef-4bf5-ac38-a8a390632ebe"
      },
      "execution_count": 2,
      "outputs": [
        {
          "output_type": "stream",
          "name": "stderr",
          "text": [
            "[nltk_data] Downloading package stopwords to /root/nltk_data...\n",
            "[nltk_data]   Unzipping corpora/stopwords.zip.\n"
          ]
        },
        {
          "output_type": "stream",
          "name": "stdout",
          "text": [
            "Original Text: This is a simple example to demonstrate how to process text using NLTK and spaCy.\n",
            "Processed Text: simple example demonstrate process text using nltk spacy\n"
          ]
        }
      ]
    },
    {
      "cell_type": "code",
      "source": [],
      "metadata": {
        "id": "ofBDfTAfDycg"
      },
      "execution_count": null,
      "outputs": []
    }
  ]
}
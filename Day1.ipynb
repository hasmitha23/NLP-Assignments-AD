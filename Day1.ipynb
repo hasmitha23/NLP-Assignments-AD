{
  "nbformat": 4,
  "nbformat_minor": 0,
  "metadata": {
    "colab": {
      "provenance": [],
      "authorship_tag": "ABX9TyNu6ntM28cUkLExAMLkSBF7",
      "include_colab_link": true
    },
    "kernelspec": {
      "name": "python3",
      "display_name": "Python 3"
    },
    "language_info": {
      "name": "python"
    }
  },
  "cells": [
    {
      "cell_type": "markdown",
      "metadata": {
        "id": "view-in-github",
        "colab_type": "text"
      },
      "source": [
        "<a href=\"https://colab.research.google.com/github/hasmitha23/NLP-Assignments-AD/blob/main/Day1.ipynb\" target=\"_parent\"><img src=\"https://colab.research.google.com/assets/colab-badge.svg\" alt=\"Open In Colab\"/></a>"
      ]
    },
    {
      "cell_type": "code",
      "execution_count": 1,
      "metadata": {
        "id": "eDiUVyn68XuD"
      },
      "outputs": [],
      "source": [
        "#DAY1\n",
        "#Write a program in Jupyter Notebook to declare variables of different data types (integer, float, string, and boolean).\n",
        "# Print each variable and its type.\n"
      ]
    },
    {
      "cell_type": "code",
      "source": [
        "# Declaring variables of different data types\n",
        "integer_var = 42          # Integer\n",
        "float_var = 3.14          # Float\n",
        "string_var = \"Hello, World!\"  # String\n",
        "boolean_var = True        # Boolean\n",
        "\n",
        "# Printing each variable and its type\n",
        "print(\"Integer variable:\", integer_var, \"Type:\", type(integer_var))\n",
        "print(\"Float variable:\", float_var, \"Type:\", type(float_var))\n",
        "print(\"String variable:\", string_var, \"Type:\", type(string_var))\n",
        "print(\"Boolean variable:\", boolean_var, \"Type:\", type(boolean_var))\n"
      ],
      "metadata": {
        "colab": {
          "base_uri": "https://localhost:8080/"
        },
        "id": "AxcbdT9n-TeQ",
        "outputId": "8c76fd7c-52c1-4c31-dcb0-0151d329f978"
      },
      "execution_count": 2,
      "outputs": [
        {
          "output_type": "stream",
          "name": "stdout",
          "text": [
            "Integer variable: 42 Type: <class 'int'>\n",
            "Float variable: 3.14 Type: <class 'float'>\n",
            "String variable: Hello, World! Type: <class 'str'>\n",
            "Boolean variable: True Type: <class 'bool'>\n"
          ]
        }
      ]
    },
    {
      "cell_type": "code",
      "source": [],
      "metadata": {
        "id": "t_t1nTB9_qF5"
      },
      "execution_count": null,
      "outputs": []
    }
  ]
}
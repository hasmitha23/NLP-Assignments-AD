{
  "nbformat": 4,
  "nbformat_minor": 0,
  "metadata": {
    "colab": {
      "provenance": [],
      "authorship_tag": "ABX9TyPukiY6U4i+sh0EaXM7a5Ig",
      "include_colab_link": true
    },
    "kernelspec": {
      "name": "python3",
      "display_name": "Python 3"
    },
    "language_info": {
      "name": "python"
    }
  },
  "cells": [
    {
      "cell_type": "markdown",
      "metadata": {
        "id": "view-in-github",
        "colab_type": "text"
      },
      "source": [
        "<a href=\"https://colab.research.google.com/github/hasmitha23/NLP-Assignments-AD/blob/main/Day3.ipynb\" target=\"_parent\"><img src=\"https://colab.research.google.com/assets/colab-badge.svg\" alt=\"Open In Colab\"/></a>"
      ]
    },
    {
      "cell_type": "code",
      "execution_count": null,
      "metadata": {
        "id": "8mQ1ZhzbBwVM"
      },
      "outputs": [],
      "source": [
        "#Day3\n",
        "#Write a Python program that takes a student's marks in three subjects as input."
      ]
    },
    {
      "cell_type": "code",
      "source": [
        "  #If the average is greater than or equal to 90, print \"Grade: A\".\n",
        "  #If the average is between 80 and 89, print \"Grade: B\".\n",
        "  #If the average is between 70 and 79, print \"Grade: C\".\n",
        "  #Otherwise, print \"Grade: Fail\".\n",
        "\n",
        "# Taking marks for three subjects as input\n",
        "subject1 = float(input(\"Enter marks for Subject 1: \"))\n",
        "subject2 = float(input(\"Enter marks for Subject 2: \"))\n",
        "subject3 = float(input(\"Enter marks for Subject 3: \"))\n",
        "\n",
        "# Calculating the average\n",
        "average = (subject1 + subject2 + subject3) / 3\n",
        "\n",
        "# Determining the grade based on the average\n",
        "if average >= 90:\n",
        "    print(\"Grade: A\")\n",
        "elif 80 <= average < 90:\n",
        "    print(\"Grade: B\")\n",
        "elif 70 <= average < 80:\n",
        "    print(\"Grade: C\")\n",
        "else:\n",
        "    print(\"Grade: Fail\")\n"
      ],
      "metadata": {
        "colab": {
          "base_uri": "https://localhost:8080/"
        },
        "id": "weAnSHLQCAlK",
        "outputId": "5aa55c8f-c06e-4b59-c588-50024b33ce43"
      },
      "execution_count": 1,
      "outputs": [
        {
          "output_type": "stream",
          "name": "stdout",
          "text": [
            "Enter marks for Subject 1: 90\n",
            "Enter marks for Subject 2: 95\n",
            "Enter marks for Subject 3: 98\n",
            "Grade: A\n"
          ]
        }
      ]
    },
    {
      "cell_type": "code",
      "source": [],
      "metadata": {
        "id": "uIVAYgxGCBbW"
      },
      "execution_count": null,
      "outputs": []
    }
  ]
}